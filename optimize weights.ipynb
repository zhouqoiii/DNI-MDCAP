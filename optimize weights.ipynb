{
 "cells": [
  {
   "cell_type": "code",
   "execution_count": 1,
   "id": "c1a8e3f6",
   "metadata": {},
   "outputs": [],
   "source": [
    "import matplotlib\n",
    "import numpy as np\n",
    "import pandas as pd\n",
    "import matplotlib.pyplot as plt\n",
    "#import os\n",
    "#import glob\n",
    "from pandas import DataFrame\n",
    "from pandas.io.parsers import TextFileReader\n",
    "from sklearn import metrics\n",
    "from sklearn.metrics import roc_curve,auc\n",
    "import itertools"
   ]
  },
  {
   "cell_type": "code",
   "execution_count": 2,
   "id": "4d0c2384",
   "metadata": {},
   "outputs": [],
   "source": [
    "gau = pd.read_csv('./result/result_matrix_ie_gau.txt',sep='\\t',index_col=0,header=0)\n",
    "exp = pd.read_csv('./result/result_matrix_ie_toni_exp.txt',sep='\\t',index_col=0,header=0)\n",
    "path = pd.read_csv('./result/result_matrix_ie_toni_path.txt',sep='\\t',index_col=0,header=0)\n",
    "seq = pd.read_csv('./result/result_matrix_ie_seq.txt',sep='\\t',index_col=0,header=0)"
   ]
  },
  {
   "cell_type": "code",
   "execution_count": 3,
   "id": "d66e39ae",
   "metadata": {},
   "outputs": [],
   "source": [
    "tf = pd.read_csv('./result/result_matrix_ie_ld_tf_0.95.txt',sep='\\t',index_col=0,header=0)\n",
    "gene = pd.read_csv('./result/result_matrix_ie_ld_gene_0.97.txt',sep='\\t',index_col=0,header=0)"
   ]
  },
  {
   "cell_type": "code",
   "execution_count": 4,
   "id": "ddccc436",
   "metadata": {},
   "outputs": [],
   "source": [
    "miRNA=pd.read_csv(\"./data/all_mirna.txt\", sep=\"\\t\",header=None)\n",
    "disease=pd.read_csv(\"./data/all_disease.txt\", sep=\"\\t\",header=None)\n",
    "causal = pd.read_csv(\"./data/yanzheng2.txt\", header=None, delimiter=\"\\t\",names=[\"causal\",\"mir\",\"dis\",\"yn\",])"
   ]
  },
  {
   "cell_type": "code",
   "execution_count": 5,
   "id": "4154cd44",
   "metadata": {},
   "outputs": [],
   "source": [
    "testset =  pd.read_csv(\"./data/hmdd_causal_test.txt\",sep=\"\\t\",header= None)\n",
    "trainset =  pd.read_csv(\"./data/hmdd_causal_train.txt\",header = None,sep=\"\\t\")\n",
    "trainset.columns = ['mir','dis','cau']\n",
    "testset.columns = ['mir','dis','cau']"
   ]
  },
  {
   "cell_type": "code",
   "execution_count": 6,
   "id": "5797dc63",
   "metadata": {},
   "outputs": [],
   "source": [
    "weight_range = [i/100 for i in range(5, 76, 5)]  # 权重范围为0.05-0.75，步长为0.05\n",
    "area_list=[]\n",
    "weight_list = []\n",
    "i_area_list=[]\n",
    "\n",
    "matrices = [seq,exp,gau,path,gene,tf]\n",
    "\n",
    "for weights in itertools.product(weight_range, repeat=len(matrices)):\n",
    "    if sum(weights) == 1:  # 权重和为1\n",
    "        # 计算整合后的矩阵MS\n",
    "        Prediction = sum(w * matrix for w, matrix in zip(weights, matrices))\n",
    "        \n",
    "        file = open(\"result/Result_score.txt\",\"w\")\n",
    "        for x in range(len(miRNA)):\n",
    "            for y in range(len(disease)):\n",
    "                file.write(str(x)+\"\\t\"+str(y)+\"\\t\"+miRNA.iloc[x,1]+\"\\t\"+disease.iloc[y,1]+\"\\t\"+str(Prediction.iloc[x,y])+\"\\n\")\n",
    "        file.close()\n",
    "\n",
    "        result = pd.read_csv(\"result/Result_score.txt\", header=None, delimiter=\"\\t\",names=[\"nmir\",\"ndis\",\"mir\",\"dis\",\"prediction\"])\n",
    "        c_result = pd.merge(result,causal,on=['mir','dis'],how = 'left')\n",
    "        r = c_result[[\"mir\",\"dis\",\"prediction\",\"causal\"]]\n",
    "        data = r.fillna(3)\n",
    "        data = data.loc[data[\"causal\"] != 3]\n",
    "        y_true = np.array(data.iloc[:,3])\n",
    "        y_true = np.where(y_true == 1,True,False)\n",
    "        y_scores = np.array(data.iloc[:,2])\n",
    "        area = 0\n",
    "        fpr,tpr,threshold = roc_curve(y_true,y_scores)\n",
    "        area = metrics.auc(fpr,tpr)\n",
    "        area_list.append(area)\n",
    "        weight_list.append(weights)\n",
    "        \n",
    "        a = pd.merge(result,testset,on=['mir','dis'],how = 'left')\n",
    "        data_i = a.fillna(0)\n",
    "        cau = np.array(data_i.iloc[:,5])\n",
    "        cas = np.where(cau == 1,True,False)\n",
    "        prediction = np.array(data_i.iloc[:,4])\n",
    "        i_area = 0\n",
    "        fpr,tpr,threshold = roc_curve(cas,prediction)\n",
    "        i_area = metrics.auc(fpr,tpr)\n",
    "        i_area_list.append(i_area)\n",
    "        "
   ]
  },
  {
   "cell_type": "code",
   "execution_count": 7,
   "id": "429b9294",
   "metadata": {},
   "outputs": [
    {
     "name": "stdout",
     "output_type": "stream",
     "text": [
      "9937\n",
      "9937\n",
      "9937\n"
     ]
    }
   ],
   "source": [
    "print(len(area_list))\n",
    "print(len(i_area_list))\n",
    "print(len(weight_list))"
   ]
  },
  {
   "cell_type": "code",
   "execution_count": 8,
   "id": "c74881f1",
   "metadata": {},
   "outputs": [],
   "source": [
    "quanzhong_toni = pd.DataFrame({'weight':weight_list, 'causal_ROC':area_list, 'independent_ROC':i_area_list})"
   ]
  },
  {
   "cell_type": "code",
   "execution_count": 9,
   "id": "3488bf56",
   "metadata": {},
   "outputs": [],
   "source": [
    "quanzhong_toni_sort = quanzhong_toni.sort_values(by='causal_ROC',ascending = False)"
   ]
  },
  {
   "cell_type": "code",
   "execution_count": 10,
   "id": "ddc8f71b",
   "metadata": {},
   "outputs": [],
   "source": [
    "quanzhong_toni_sort.to_csv('./result/quanzhong_toni.txt',sep='\\t')"
   ]
  },
  {
   "cell_type": "code",
   "execution_count": 18,
   "id": "ae1f11f8",
   "metadata": {},
   "outputs": [
    {
     "name": "stdout",
     "output_type": "stream",
     "text": [
      "535\n",
      "302\n"
     ]
    }
   ],
   "source": [
    "area_list = []\n",
    "location_list = []\n",
    "weights = np.arange(0.05,0.90,0.05)\n",
    "\n",
    "miRNA=pd.read_csv(\"./data/all_mirna.txt\", sep=\"\\t\",header=None)\n",
    "disease=pd.read_csv(\"./data/all_disease.txt\", sep=\"\\t\",header=None)\n",
    "causal = pd.read_csv(\"./data/yanzheng2.txt\", header=None, delimiter=\"\\t\",names=[\"causal\",\"mir\",\"dis\",\"yn\",])\n",
    "print(len(miRNA))\n",
    "print(len(disease))"
   ]
  },
  {
   "cell_type": "code",
   "execution_count": null,
   "id": "5018480d",
   "metadata": {},
   "outputs": [],
   "source": []
  }
 ],
 "metadata": {
  "kernelspec": {
   "display_name": "Python 3 (ipykernel)",
   "language": "python",
   "name": "python3"
  },
  "language_info": {
   "codemirror_mode": {
    "name": "ipython",
    "version": 3
   },
   "file_extension": ".py",
   "mimetype": "text/x-python",
   "name": "python",
   "nbconvert_exporter": "python",
   "pygments_lexer": "ipython3",
   "version": "3.11.5"
  }
 },
 "nbformat": 4,
 "nbformat_minor": 5
}
