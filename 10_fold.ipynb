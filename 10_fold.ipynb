{
 "cells": [
  {
   "cell_type": "code",
   "execution_count": 1,
   "id": "d7995534",
   "metadata": {},
   "outputs": [],
   "source": [
    "import numpy as np\n",
    "import pandas as pd"
   ]
  },
  {
   "cell_type": "code",
   "execution_count": 2,
   "id": "67ae6dcd",
   "metadata": {},
   "outputs": [
    {
     "data": {
      "text/html": [
       "<div>\n",
       "<style scoped>\n",
       "    .dataframe tbody tr th:only-of-type {\n",
       "        vertical-align: middle;\n",
       "    }\n",
       "\n",
       "    .dataframe tbody tr th {\n",
       "        vertical-align: top;\n",
       "    }\n",
       "\n",
       "    .dataframe thead th {\n",
       "        text-align: right;\n",
       "    }\n",
       "</style>\n",
       "<table border=\"1\" class=\"dataframe\">\n",
       "  <thead>\n",
       "    <tr style=\"text-align: right;\">\n",
       "      <th></th>\n",
       "      <th>mir</th>\n",
       "      <th>dis</th>\n",
       "      <th>pre</th>\n",
       "    </tr>\n",
       "  </thead>\n",
       "  <tbody>\n",
       "    <tr>\n",
       "      <th>0</th>\n",
       "      <td>hsa-let-7a</td>\n",
       "      <td>Lupus Erythematosus, Systemic</td>\n",
       "      <td>1</td>\n",
       "    </tr>\n",
       "    <tr>\n",
       "      <th>1</th>\n",
       "      <td>hsa-let-7a</td>\n",
       "      <td>Neoplasms</td>\n",
       "      <td>1</td>\n",
       "    </tr>\n",
       "    <tr>\n",
       "      <th>2</th>\n",
       "      <td>hsa-let-7a</td>\n",
       "      <td>Diabetes Mellitus, Type 2</td>\n",
       "      <td>1</td>\n",
       "    </tr>\n",
       "    <tr>\n",
       "      <th>3</th>\n",
       "      <td>hsa-let-7a</td>\n",
       "      <td>Sarcoma, Ewing</td>\n",
       "      <td>1</td>\n",
       "    </tr>\n",
       "    <tr>\n",
       "      <th>4</th>\n",
       "      <td>hsa-let-7a</td>\n",
       "      <td>Retinal Degeneration</td>\n",
       "      <td>1</td>\n",
       "    </tr>\n",
       "    <tr>\n",
       "      <th>...</th>\n",
       "      <td>...</td>\n",
       "      <td>...</td>\n",
       "      <td>...</td>\n",
       "    </tr>\n",
       "    <tr>\n",
       "      <th>4223</th>\n",
       "      <td>hsa-mir-98</td>\n",
       "      <td>Endomyocardial Fibrosis</td>\n",
       "      <td>1</td>\n",
       "    </tr>\n",
       "    <tr>\n",
       "      <th>4224</th>\n",
       "      <td>hsa-mir-98</td>\n",
       "      <td>Carcinoma, Pancreatic Ductal</td>\n",
       "      <td>1</td>\n",
       "    </tr>\n",
       "    <tr>\n",
       "      <th>4225</th>\n",
       "      <td>hsa-mir-99a</td>\n",
       "      <td>Urinary Bladder Neoplasms</td>\n",
       "      <td>1</td>\n",
       "    </tr>\n",
       "    <tr>\n",
       "      <th>4226</th>\n",
       "      <td>hsa-mir-99a</td>\n",
       "      <td>Cardiovascular Diseases</td>\n",
       "      <td>1</td>\n",
       "    </tr>\n",
       "    <tr>\n",
       "      <th>4227</th>\n",
       "      <td>hsa-mir-99b</td>\n",
       "      <td>Carcinoma, Hepatocellular</td>\n",
       "      <td>1</td>\n",
       "    </tr>\n",
       "  </tbody>\n",
       "</table>\n",
       "<p>4228 rows × 3 columns</p>\n",
       "</div>"
      ],
      "text/plain": [
       "              mir                            dis  pre\n",
       "0      hsa-let-7a  Lupus Erythematosus, Systemic    1\n",
       "1      hsa-let-7a                      Neoplasms    1\n",
       "2      hsa-let-7a      Diabetes Mellitus, Type 2    1\n",
       "3      hsa-let-7a                 Sarcoma, Ewing    1\n",
       "4      hsa-let-7a           Retinal Degeneration    1\n",
       "...           ...                            ...  ...\n",
       "4223   hsa-mir-98        Endomyocardial Fibrosis    1\n",
       "4224   hsa-mir-98   Carcinoma, Pancreatic Ductal    1\n",
       "4225  hsa-mir-99a      Urinary Bladder Neoplasms    1\n",
       "4226  hsa-mir-99a        Cardiovascular Diseases    1\n",
       "4227  hsa-mir-99b      Carcinoma, Hepatocellular    1\n",
       "\n",
       "[4228 rows x 3 columns]"
      ]
     },
     "execution_count": 2,
     "metadata": {},
     "output_type": "execute_result"
    }
   ],
   "source": [
    "hmdd_causal = pd.read_csv('./data/hmdd2_causal.txt',sep='\\t',names = ['mir','dis','pre'])\n",
    "hmdd_causal"
   ]
  },
  {
   "cell_type": "code",
   "execution_count": 3,
   "id": "7aff489a",
   "metadata": {},
   "outputs": [],
   "source": [
    "dis = pd.read_csv('./data/all_disease.txt',header=None,sep = '\\t')\n",
    "mir = pd.read_csv('./data/all_mirna.txt',header=None,sep = '\\t')\n",
    "mir_name= mir.iloc[:,1]\n",
    "dis_name = dis.iloc[:,1]"
   ]
  },
  {
   "cell_type": "code",
   "execution_count": 48,
   "id": "caf25ed5",
   "metadata": {},
   "outputs": [],
   "source": [
    "np.random.seed(123)\n",
    "for i in range(10):\n",
    "    test = hmdd_causal.sample(n=792)\n",
    "    train = hmdd_causal.drop(test.index)\n",
    "    train_matrix = train.pivot_table(values = 'pre', index = 'mir', columns = 'dis').fillna(0).reindex(mir_name,axis=0,fill_value=0).reindex(dis_name,axis=1,fill_value=0)\n",
    "    \n",
    "    \n",
    "    test.to_csv(f'./data/10_fold/test_{i+1}.txt', index=False, sep='\\t',header = None)\n",
    "    train.to_csv(f'./data/10_fold/train_{i+1}.txt', index=False, sep='\\t',header = None)\n",
    "    train_matrix.to_csv(f'./data/10_fold/train_matrix{i+1}.txt',index=False, sep='\\t',header = None)"
   ]
  },
  {
   "cell_type": "code",
   "execution_count": null,
   "id": "895a1e05",
   "metadata": {},
   "outputs": [],
   "source": []
  }
 ],
 "metadata": {
  "kernelspec": {
   "display_name": "Python 3 (ipykernel)",
   "language": "python",
   "name": "python3"
  },
  "language_info": {
   "codemirror_mode": {
    "name": "ipython",
    "version": 3
   },
   "file_extension": ".py",
   "mimetype": "text/x-python",
   "name": "python",
   "nbconvert_exporter": "python",
   "pygments_lexer": "ipython3",
   "version": "3.11.5"
  }
 },
 "nbformat": 4,
 "nbformat_minor": 5
}
